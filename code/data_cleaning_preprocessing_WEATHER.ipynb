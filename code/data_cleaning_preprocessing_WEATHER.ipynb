{
 "cells": [
  {
   "cell_type": "code",
   "execution_count": 1,
   "outputs": [
    {
     "name": "stdout",
     "output_type": "stream",
     "text": [
      "Requirement already satisfied: pandas in c:\\users\\yegmo\\appdata\\local\\programs\\python\\python39\\lib\\site-packages (1.5.3)\n",
      "Requirement already satisfied: pytz>=2020.1 in c:\\users\\yegmo\\appdata\\local\\programs\\python\\python39\\lib\\site-packages (from pandas) (2022.7.1)\n",
      "Requirement already satisfied: python-dateutil>=2.8.1 in c:\\users\\yegmo\\appdata\\local\\programs\\python\\python39\\lib\\site-packages (from pandas) (2.8.2)\n",
      "Requirement already satisfied: numpy>=1.20.3 in c:\\users\\yegmo\\appdata\\local\\programs\\python\\python39\\lib\\site-packages (from pandas) (1.24.1)\n",
      "Requirement already satisfied: six>=1.5 in c:\\users\\yegmo\\appdata\\local\\programs\\python\\python39\\lib\\site-packages (from python-dateutil>=2.8.1->pandas) (1.16.0)\n"
     ]
    },
    {
     "name": "stderr",
     "output_type": "stream",
     "text": [
      "WARNING: You are using pip version 22.0.4; however, version 22.3.1 is available.\n",
      "You should consider upgrading via the 'C:\\Users\\yegmo\\AppData\\Local\\Programs\\Python\\Python39\\python.exe -m pip install --upgrade pip' command.\n"
     ]
    },
    {
     "name": "stdout",
     "output_type": "stream",
     "text": [
      "Requirement already satisfied: scikit-learn in c:\\users\\yegmo\\appdata\\local\\programs\\python\\python39\\lib\\site-packages (1.2.1)\n",
      "Requirement already satisfied: numpy>=1.17.3 in c:\\users\\yegmo\\appdata\\local\\programs\\python\\python39\\lib\\site-packages (from scikit-learn) (1.24.1)\n",
      "Requirement already satisfied: joblib>=1.1.1 in c:\\users\\yegmo\\appdata\\local\\programs\\python\\python39\\lib\\site-packages (from scikit-learn) (1.2.0)\n",
      "Requirement already satisfied: scipy>=1.3.2 in c:\\users\\yegmo\\appdata\\local\\programs\\python\\python39\\lib\\site-packages (from scikit-learn) (1.10.0)\n",
      "Requirement already satisfied: threadpoolctl>=2.0.0 in c:\\users\\yegmo\\appdata\\local\\programs\\python\\python39\\lib\\site-packages (from scikit-learn) (3.1.0)\n"
     ]
    },
    {
     "name": "stderr",
     "output_type": "stream",
     "text": [
      "WARNING: You are using pip version 22.0.4; however, version 22.3.1 is available.\n",
      "You should consider upgrading via the 'C:\\Users\\yegmo\\AppData\\Local\\Programs\\Python\\Python39\\python.exe -m pip install --upgrade pip' command.\n"
     ]
    },
    {
     "name": "stdout",
     "output_type": "stream",
     "text": [
      "Requirement already satisfied: pyproj in c:\\users\\yegmo\\appdata\\local\\programs\\python\\python39\\lib\\site-packages (3.4.1)\n",
      "Requirement already satisfied: certifi in c:\\users\\yegmo\\appdata\\local\\programs\\python\\python39\\lib\\site-packages (from pyproj) (2022.12.7)\n"
     ]
    },
    {
     "name": "stderr",
     "output_type": "stream",
     "text": [
      "WARNING: You are using pip version 22.0.4; however, version 22.3.1 is available.\n",
      "You should consider upgrading via the 'C:\\Users\\yegmo\\AppData\\Local\\Programs\\Python\\Python39\\python.exe -m pip install --upgrade pip' command.\n"
     ]
    }
   ],
   "source": [
    "!pip install pandas\n",
    "!pip install scikit-learn\n",
    "!pip install pyproj"
   ],
   "metadata": {
    "collapsed": false
   }
  },
  {
   "cell_type": "code",
   "execution_count": 2,
   "metadata": {
    "collapsed": true
   },
   "outputs": [],
   "source": [
    "import numpy as np\n",
    "import pandas as pd\n",
    "import glob\n",
    "import os\n",
    "import pyproj\n",
    "from sklearn.neighbors import NearestNeighbors"
   ]
  },
  {
   "cell_type": "code",
   "execution_count": 3,
   "outputs": [],
   "source": [
    "input_root_path = \"P:\\SALMALIS Lab\\Work Zone Dataset\"\n",
    "weather_path = \"E:\\OneDrive - UBC\\Work Zone\\data\\WeatherInfo\"\n",
    "output_root_path = \"../\""
   ],
   "metadata": {
    "collapsed": false
   }
  },
  {
   "cell_type": "code",
   "execution_count": 4,
   "outputs": [],
   "source": [
    "def load_csv_to_df(files, filename=None, is_excel=False):\n",
    "    if is_excel:\n",
    "        df = pd.concat((pd.read_excel(f) for f in files), ignore_index=True)\n",
    "    else:\n",
    "        df = pd.concat((pd.read_csv(f, skipinitialspace = True) for f in files), ignore_index=True)\n",
    "\n",
    "    if filename:\n",
    "        df.to_csv(os.path.join(output_root_path, filename), header = True, index=True)\n",
    "    return df"
   ],
   "metadata": {
    "collapsed": false
   }
  },
  {
   "cell_type": "code",
   "execution_count": 5,
   "outputs": [
    {
     "name": "stderr",
     "output_type": "stream",
     "text": [
      "C:\\Users\\yegmo\\AppData\\Local\\Temp\\ipykernel_15684\\413896161.py:1: DtypeWarning: Columns (30) have mixed types. Specify dtype option on import or set low_memory=False.\n",
      "  travel_t = pd.read_csv(os.path.join(input_root_path, 'TravelTime_HaveCellCoverage.csv'))\n"
     ]
    },
    {
     "data": {
      "text/plain": "         AssetNumber                                 AssetIdentifier  \\\n0        49831911074                                       Spread 3B   \n1        49831911074                                       Spread 3B   \n2        49831911074                                       Spread 3B   \n3        49831911074                                       Spread 3B   \n4        49831911074                                       Spread 3B   \n...              ...                                             ...   \n1704313  86704972236  AP 6-A-66-A • NB • Macro Spiecapag JV • 1073.6   \n1704314  86704972236  AP 6-A-66-A • NB • Macro Spiecapag JV • 1073.6   \n1704315  86704972236  AP 6-A-66-A • NB • Macro Spiecapag JV • 1073.6   \n1704316  86704972236  AP 6-A-66-A • NB • Macro Spiecapag JV • 1073.6   \n1704317  86704972236  AP 6-A-66-A • NB • Macro Spiecapag JV • 1073.6   \n\n                 CreatedDate  UnderConstructionTime  BaselineTime  DelayTime  \\\n0        2022-05-03 17:59:55                   2.20          2.13       0.07   \n1        2022-05-03 17:57:32                   2.20          2.13       0.07   \n2        2022-05-03 17:55:23                   2.20          2.13       0.07   \n3        2022-05-03 17:53:29                   2.20          2.13       0.07   \n4        2022-05-03 17:51:45                   2.23          2.13       0.10   \n...                      ...                    ...           ...        ...   \n1704313  2021-05-01 18:40:12                   1.38          1.48       0.00   \n1704314  2021-05-01 18:45:11                   1.38          1.48       0.00   \n1704315  2021-05-01 18:50:10                   1.38          1.48       0.00   \n1704316  2021-05-01 18:51:07                   1.37          1.48       0.00   \n1704317  2021-05-01 18:55:09                   1.37          1.48       0.00   \n\n        State  SegmentLength TravelDirect     Spread  ... Weather:Lat  \\\n0          OK           3.36           SB  Spread 3B  ...       52.72   \n1          OK           3.36           SB  Spread 3B  ...       52.72   \n2          OK           3.36           SB  Spread 3B  ...       52.72   \n3          OK           3.36           SB  Spread 3B  ...       52.72   \n4          OK           3.36           SB  Spread 3B  ...       52.72   \n...       ...            ...          ...        ...  ...         ...   \n1704313    OK           2.45           NB  Spread 5B  ...       49.24   \n1704314    OK           2.45           NB  Spread 5B  ...       49.24   \n1704315    OK           2.45           NB  Spread 5B  ...       49.24   \n1704316    OK           2.45           NB  Spread 5B  ...       49.24   \n1704317    OK           2.45           NB  Spread 5B  ...       49.24   \n\n        Weather:Temp Weather:Precip Weather:WindSpd  Traffic:SiteNo  \\\n0                NaN            NaN             NaN        23-010NS   \n1                NaN            NaN             NaN        23-010NS   \n2                NaN            NaN             NaN        23-010NS   \n3                NaN            NaN             NaN        23-010NS   \n4                NaN            NaN             NaN        23-010NS   \n...              ...            ...             ...             ...   \n1704313         14.2            0.0             6.0         17-015W   \n1704314         14.2            0.0             6.0         17-015W   \n1704315         14.2            0.0             6.0         17-015W   \n1704316         14.2            0.0             6.0         17-015W   \n1704317         14.2            0.0             6.0         17-015W   \n\n         Traffic:IsTemporary  Traffic:AADT  Traffic:BaseYear  \\\n0                       True    355.333333            2017.0   \n1                       True    355.333333            2017.0   \n2                       True    355.333333            2017.0   \n3                       True    355.333333            2017.0   \n4                       True    355.333333            2017.0   \n...                      ...           ...               ...   \n1704313                 True    617.333333            2013.0   \n1704314                 True    617.333333            2013.0   \n1704315                 True    617.333333            2013.0   \n1704316                 True    617.333333            2013.0   \n1704317                 True    617.333333            2013.0   \n\n         Traffic:CalculatedAADT  MaxSpeed  \n0                        373.10     100.0  \n1                        373.10     100.0  \n2                        373.10     100.0  \n3                        373.10     100.0  \n4                        373.10     100.0  \n...                         ...       ...  \n1704313                  666.72       NaN  \n1704314                  666.72       NaN  \n1704315                  666.72       NaN  \n1704316                  666.72       NaN  \n1704317                  666.72       NaN  \n\n[1704318 rows x 34 columns]",
      "text/html": "<div>\n<style scoped>\n    .dataframe tbody tr th:only-of-type {\n        vertical-align: middle;\n    }\n\n    .dataframe tbody tr th {\n        vertical-align: top;\n    }\n\n    .dataframe thead th {\n        text-align: right;\n    }\n</style>\n<table border=\"1\" class=\"dataframe\">\n  <thead>\n    <tr style=\"text-align: right;\">\n      <th></th>\n      <th>AssetNumber</th>\n      <th>AssetIdentifier</th>\n      <th>CreatedDate</th>\n      <th>UnderConstructionTime</th>\n      <th>BaselineTime</th>\n      <th>DelayTime</th>\n      <th>State</th>\n      <th>SegmentLength</th>\n      <th>TravelDirect</th>\n      <th>Spread</th>\n      <th>...</th>\n      <th>Weather:Lat</th>\n      <th>Weather:Temp</th>\n      <th>Weather:Precip</th>\n      <th>Weather:WindSpd</th>\n      <th>Traffic:SiteNo</th>\n      <th>Traffic:IsTemporary</th>\n      <th>Traffic:AADT</th>\n      <th>Traffic:BaseYear</th>\n      <th>Traffic:CalculatedAADT</th>\n      <th>MaxSpeed</th>\n    </tr>\n  </thead>\n  <tbody>\n    <tr>\n      <th>0</th>\n      <td>49831911074</td>\n      <td>Spread 3B</td>\n      <td>2022-05-03 17:59:55</td>\n      <td>2.20</td>\n      <td>2.13</td>\n      <td>0.07</td>\n      <td>OK</td>\n      <td>3.36</td>\n      <td>SB</td>\n      <td>Spread 3B</td>\n      <td>...</td>\n      <td>52.72</td>\n      <td>NaN</td>\n      <td>NaN</td>\n      <td>NaN</td>\n      <td>23-010NS</td>\n      <td>True</td>\n      <td>355.333333</td>\n      <td>2017.0</td>\n      <td>373.10</td>\n      <td>100.0</td>\n    </tr>\n    <tr>\n      <th>1</th>\n      <td>49831911074</td>\n      <td>Spread 3B</td>\n      <td>2022-05-03 17:57:32</td>\n      <td>2.20</td>\n      <td>2.13</td>\n      <td>0.07</td>\n      <td>OK</td>\n      <td>3.36</td>\n      <td>SB</td>\n      <td>Spread 3B</td>\n      <td>...</td>\n      <td>52.72</td>\n      <td>NaN</td>\n      <td>NaN</td>\n      <td>NaN</td>\n      <td>23-010NS</td>\n      <td>True</td>\n      <td>355.333333</td>\n      <td>2017.0</td>\n      <td>373.10</td>\n      <td>100.0</td>\n    </tr>\n    <tr>\n      <th>2</th>\n      <td>49831911074</td>\n      <td>Spread 3B</td>\n      <td>2022-05-03 17:55:23</td>\n      <td>2.20</td>\n      <td>2.13</td>\n      <td>0.07</td>\n      <td>OK</td>\n      <td>3.36</td>\n      <td>SB</td>\n      <td>Spread 3B</td>\n      <td>...</td>\n      <td>52.72</td>\n      <td>NaN</td>\n      <td>NaN</td>\n      <td>NaN</td>\n      <td>23-010NS</td>\n      <td>True</td>\n      <td>355.333333</td>\n      <td>2017.0</td>\n      <td>373.10</td>\n      <td>100.0</td>\n    </tr>\n    <tr>\n      <th>3</th>\n      <td>49831911074</td>\n      <td>Spread 3B</td>\n      <td>2022-05-03 17:53:29</td>\n      <td>2.20</td>\n      <td>2.13</td>\n      <td>0.07</td>\n      <td>OK</td>\n      <td>3.36</td>\n      <td>SB</td>\n      <td>Spread 3B</td>\n      <td>...</td>\n      <td>52.72</td>\n      <td>NaN</td>\n      <td>NaN</td>\n      <td>NaN</td>\n      <td>23-010NS</td>\n      <td>True</td>\n      <td>355.333333</td>\n      <td>2017.0</td>\n      <td>373.10</td>\n      <td>100.0</td>\n    </tr>\n    <tr>\n      <th>4</th>\n      <td>49831911074</td>\n      <td>Spread 3B</td>\n      <td>2022-05-03 17:51:45</td>\n      <td>2.23</td>\n      <td>2.13</td>\n      <td>0.10</td>\n      <td>OK</td>\n      <td>3.36</td>\n      <td>SB</td>\n      <td>Spread 3B</td>\n      <td>...</td>\n      <td>52.72</td>\n      <td>NaN</td>\n      <td>NaN</td>\n      <td>NaN</td>\n      <td>23-010NS</td>\n      <td>True</td>\n      <td>355.333333</td>\n      <td>2017.0</td>\n      <td>373.10</td>\n      <td>100.0</td>\n    </tr>\n    <tr>\n      <th>...</th>\n      <td>...</td>\n      <td>...</td>\n      <td>...</td>\n      <td>...</td>\n      <td>...</td>\n      <td>...</td>\n      <td>...</td>\n      <td>...</td>\n      <td>...</td>\n      <td>...</td>\n      <td>...</td>\n      <td>...</td>\n      <td>...</td>\n      <td>...</td>\n      <td>...</td>\n      <td>...</td>\n      <td>...</td>\n      <td>...</td>\n      <td>...</td>\n      <td>...</td>\n      <td>...</td>\n    </tr>\n    <tr>\n      <th>1704313</th>\n      <td>86704972236</td>\n      <td>AP 6-A-66-A • NB • Macro Spiecapag JV • 1073.6</td>\n      <td>2021-05-01 18:40:12</td>\n      <td>1.38</td>\n      <td>1.48</td>\n      <td>0.00</td>\n      <td>OK</td>\n      <td>2.45</td>\n      <td>NB</td>\n      <td>Spread 5B</td>\n      <td>...</td>\n      <td>49.24</td>\n      <td>14.2</td>\n      <td>0.0</td>\n      <td>6.0</td>\n      <td>17-015W</td>\n      <td>True</td>\n      <td>617.333333</td>\n      <td>2013.0</td>\n      <td>666.72</td>\n      <td>NaN</td>\n    </tr>\n    <tr>\n      <th>1704314</th>\n      <td>86704972236</td>\n      <td>AP 6-A-66-A • NB • Macro Spiecapag JV • 1073.6</td>\n      <td>2021-05-01 18:45:11</td>\n      <td>1.38</td>\n      <td>1.48</td>\n      <td>0.00</td>\n      <td>OK</td>\n      <td>2.45</td>\n      <td>NB</td>\n      <td>Spread 5B</td>\n      <td>...</td>\n      <td>49.24</td>\n      <td>14.2</td>\n      <td>0.0</td>\n      <td>6.0</td>\n      <td>17-015W</td>\n      <td>True</td>\n      <td>617.333333</td>\n      <td>2013.0</td>\n      <td>666.72</td>\n      <td>NaN</td>\n    </tr>\n    <tr>\n      <th>1704315</th>\n      <td>86704972236</td>\n      <td>AP 6-A-66-A • NB • Macro Spiecapag JV • 1073.6</td>\n      <td>2021-05-01 18:50:10</td>\n      <td>1.38</td>\n      <td>1.48</td>\n      <td>0.00</td>\n      <td>OK</td>\n      <td>2.45</td>\n      <td>NB</td>\n      <td>Spread 5B</td>\n      <td>...</td>\n      <td>49.24</td>\n      <td>14.2</td>\n      <td>0.0</td>\n      <td>6.0</td>\n      <td>17-015W</td>\n      <td>True</td>\n      <td>617.333333</td>\n      <td>2013.0</td>\n      <td>666.72</td>\n      <td>NaN</td>\n    </tr>\n    <tr>\n      <th>1704316</th>\n      <td>86704972236</td>\n      <td>AP 6-A-66-A • NB • Macro Spiecapag JV • 1073.6</td>\n      <td>2021-05-01 18:51:07</td>\n      <td>1.37</td>\n      <td>1.48</td>\n      <td>0.00</td>\n      <td>OK</td>\n      <td>2.45</td>\n      <td>NB</td>\n      <td>Spread 5B</td>\n      <td>...</td>\n      <td>49.24</td>\n      <td>14.2</td>\n      <td>0.0</td>\n      <td>6.0</td>\n      <td>17-015W</td>\n      <td>True</td>\n      <td>617.333333</td>\n      <td>2013.0</td>\n      <td>666.72</td>\n      <td>NaN</td>\n    </tr>\n    <tr>\n      <th>1704317</th>\n      <td>86704972236</td>\n      <td>AP 6-A-66-A • NB • Macro Spiecapag JV • 1073.6</td>\n      <td>2021-05-01 18:55:09</td>\n      <td>1.37</td>\n      <td>1.48</td>\n      <td>0.00</td>\n      <td>OK</td>\n      <td>2.45</td>\n      <td>NB</td>\n      <td>Spread 5B</td>\n      <td>...</td>\n      <td>49.24</td>\n      <td>14.2</td>\n      <td>0.0</td>\n      <td>6.0</td>\n      <td>17-015W</td>\n      <td>True</td>\n      <td>617.333333</td>\n      <td>2013.0</td>\n      <td>666.72</td>\n      <td>NaN</td>\n    </tr>\n  </tbody>\n</table>\n<p>1704318 rows × 34 columns</p>\n</div>"
     },
     "execution_count": 5,
     "metadata": {},
     "output_type": "execute_result"
    }
   ],
   "source": [
    "travel_t = pd.read_csv(os.path.join(input_root_path, 'TravelTime_HaveCellCoverage.csv'))\n",
    "del travel_t[travel_t.columns[0]]\n",
    "travel_t"
   ],
   "metadata": {
    "collapsed": false
   }
  },
  {
   "cell_type": "code",
   "execution_count": 6,
   "outputs": [
    {
     "name": "stdout",
     "output_type": "stream",
     "text": [
      "NaN:\n",
      "Asset Number                0\n",
      "Segment Name               50\n",
      "Segment Length             51\n",
      "Baseline                   52\n",
      "Direct of Travel           50\n",
      "Spread                     50\n",
      "Traffic Impact             52\n",
      "Road Type                  50\n",
      "Traffic Control Setup      50\n",
      "Easting                    72\n",
      "Northing                   72\n",
      "Most Recent Activation    181\n",
      "Cell Coverage             499\n",
      "UTM Zone                  121\n",
      "dtype: int64\n"
     ]
    },
    {
     "data": {
      "text/plain": "     Asset Number   Segment Name  Segment Length  Baseline Direct of Travel  \\\n0     62134790681  AP 3-B-12-A-1           2.746      1.72               NB   \n1     10897197432  AP 3-B-12-A-1           2.746      1.73               SB   \n2     12768050215  AP 3-B-13-A-1           2.970      1.92               NB   \n3     56678162306  AP 3-B-13-A-1           2.970      1.92               SB   \n4     86851077697  AP 3-B-13-A-3          18.000       NaN               NB   \n..            ...            ...             ...       ...              ...   \n669   98870744606            NaN             NaN       NaN              NaN   \n670   42000211195            NaN             NaN       NaN              NaN   \n671   29368392925            NaN             NaN       NaN              NaN   \n672   20575538255            NaN             NaN       NaN              NaN   \n673   87398619166            NaN             NaN       NaN              NaN   \n\n        Spread Traffic Impact                      Road Type  \\\n0    Spread 3B           High  Multi-Lane Undivided Roadways   \n1    Spread 3B           High  Multi-Lane Undivided Roadways   \n2    Spread 3B           High  Multi-Lane Undivided Roadways   \n3    Spread 3B           High  Multi-Lane Undivided Roadways   \n4    Spread 3B           High  Multi-Lane Undivided Roadways   \n..         ...            ...                            ...   \n669        NaN            NaN                            NaN   \n670        NaN            NaN                            NaN   \n671        NaN            NaN                            NaN   \n672        NaN            NaN                            NaN   \n673        NaN            NaN                            NaN   \n\n    Traffic Control Setup       Easting      Northing Most Recent Activation  \\\n0                    SLAT  344630.96633  5.861839e+06              2/25/2022   \n1                    SLAT  344630.96633  5.861839e+06              2/25/2022   \n2                    SLAT  344922.86601  5.860906e+06               4/2/2022   \n3                    SLAT  344922.86601  5.860906e+06               4/2/2022   \n4                    SLAT  346092.86128  5.857159e+06                    NaN   \n..                    ...           ...           ...                    ...   \n669                   NaN           NaN           NaN                    NaN   \n670                   NaN           NaN           NaN                    NaN   \n671                   NaN           NaN           NaN                    NaN   \n672                   NaN           NaN           NaN                    NaN   \n673                   NaN           NaN           NaN                    NaN   \n\n    Cell Coverage  UTM Zone  \n0             NaN      11.0  \n1             NaN      11.0  \n2             NaN      11.0  \n3             NaN      11.0  \n4             NaN       NaN  \n..            ...       ...  \n669           NaN      10.0  \n670           NaN      11.0  \n671           NaN      11.0  \n672           NaN      10.0  \n673           NaN      11.0  \n\n[674 rows x 14 columns]",
      "text/html": "<div>\n<style scoped>\n    .dataframe tbody tr th:only-of-type {\n        vertical-align: middle;\n    }\n\n    .dataframe tbody tr th {\n        vertical-align: top;\n    }\n\n    .dataframe thead th {\n        text-align: right;\n    }\n</style>\n<table border=\"1\" class=\"dataframe\">\n  <thead>\n    <tr style=\"text-align: right;\">\n      <th></th>\n      <th>Asset Number</th>\n      <th>Segment Name</th>\n      <th>Segment Length</th>\n      <th>Baseline</th>\n      <th>Direct of Travel</th>\n      <th>Spread</th>\n      <th>Traffic Impact</th>\n      <th>Road Type</th>\n      <th>Traffic Control Setup</th>\n      <th>Easting</th>\n      <th>Northing</th>\n      <th>Most Recent Activation</th>\n      <th>Cell Coverage</th>\n      <th>UTM Zone</th>\n    </tr>\n  </thead>\n  <tbody>\n    <tr>\n      <th>0</th>\n      <td>62134790681</td>\n      <td>AP 3-B-12-A-1</td>\n      <td>2.746</td>\n      <td>1.72</td>\n      <td>NB</td>\n      <td>Spread 3B</td>\n      <td>High</td>\n      <td>Multi-Lane Undivided Roadways</td>\n      <td>SLAT</td>\n      <td>344630.96633</td>\n      <td>5.861839e+06</td>\n      <td>2/25/2022</td>\n      <td>NaN</td>\n      <td>11.0</td>\n    </tr>\n    <tr>\n      <th>1</th>\n      <td>10897197432</td>\n      <td>AP 3-B-12-A-1</td>\n      <td>2.746</td>\n      <td>1.73</td>\n      <td>SB</td>\n      <td>Spread 3B</td>\n      <td>High</td>\n      <td>Multi-Lane Undivided Roadways</td>\n      <td>SLAT</td>\n      <td>344630.96633</td>\n      <td>5.861839e+06</td>\n      <td>2/25/2022</td>\n      <td>NaN</td>\n      <td>11.0</td>\n    </tr>\n    <tr>\n      <th>2</th>\n      <td>12768050215</td>\n      <td>AP 3-B-13-A-1</td>\n      <td>2.970</td>\n      <td>1.92</td>\n      <td>NB</td>\n      <td>Spread 3B</td>\n      <td>High</td>\n      <td>Multi-Lane Undivided Roadways</td>\n      <td>SLAT</td>\n      <td>344922.86601</td>\n      <td>5.860906e+06</td>\n      <td>4/2/2022</td>\n      <td>NaN</td>\n      <td>11.0</td>\n    </tr>\n    <tr>\n      <th>3</th>\n      <td>56678162306</td>\n      <td>AP 3-B-13-A-1</td>\n      <td>2.970</td>\n      <td>1.92</td>\n      <td>SB</td>\n      <td>Spread 3B</td>\n      <td>High</td>\n      <td>Multi-Lane Undivided Roadways</td>\n      <td>SLAT</td>\n      <td>344922.86601</td>\n      <td>5.860906e+06</td>\n      <td>4/2/2022</td>\n      <td>NaN</td>\n      <td>11.0</td>\n    </tr>\n    <tr>\n      <th>4</th>\n      <td>86851077697</td>\n      <td>AP 3-B-13-A-3</td>\n      <td>18.000</td>\n      <td>NaN</td>\n      <td>NB</td>\n      <td>Spread 3B</td>\n      <td>High</td>\n      <td>Multi-Lane Undivided Roadways</td>\n      <td>SLAT</td>\n      <td>346092.86128</td>\n      <td>5.857159e+06</td>\n      <td>NaN</td>\n      <td>NaN</td>\n      <td>NaN</td>\n    </tr>\n    <tr>\n      <th>...</th>\n      <td>...</td>\n      <td>...</td>\n      <td>...</td>\n      <td>...</td>\n      <td>...</td>\n      <td>...</td>\n      <td>...</td>\n      <td>...</td>\n      <td>...</td>\n      <td>...</td>\n      <td>...</td>\n      <td>...</td>\n      <td>...</td>\n      <td>...</td>\n    </tr>\n    <tr>\n      <th>669</th>\n      <td>98870744606</td>\n      <td>NaN</td>\n      <td>NaN</td>\n      <td>NaN</td>\n      <td>NaN</td>\n      <td>NaN</td>\n      <td>NaN</td>\n      <td>NaN</td>\n      <td>NaN</td>\n      <td>NaN</td>\n      <td>NaN</td>\n      <td>NaN</td>\n      <td>NaN</td>\n      <td>10.0</td>\n    </tr>\n    <tr>\n      <th>670</th>\n      <td>42000211195</td>\n      <td>NaN</td>\n      <td>NaN</td>\n      <td>NaN</td>\n      <td>NaN</td>\n      <td>NaN</td>\n      <td>NaN</td>\n      <td>NaN</td>\n      <td>NaN</td>\n      <td>NaN</td>\n      <td>NaN</td>\n      <td>NaN</td>\n      <td>NaN</td>\n      <td>11.0</td>\n    </tr>\n    <tr>\n      <th>671</th>\n      <td>29368392925</td>\n      <td>NaN</td>\n      <td>NaN</td>\n      <td>NaN</td>\n      <td>NaN</td>\n      <td>NaN</td>\n      <td>NaN</td>\n      <td>NaN</td>\n      <td>NaN</td>\n      <td>NaN</td>\n      <td>NaN</td>\n      <td>NaN</td>\n      <td>NaN</td>\n      <td>11.0</td>\n    </tr>\n    <tr>\n      <th>672</th>\n      <td>20575538255</td>\n      <td>NaN</td>\n      <td>NaN</td>\n      <td>NaN</td>\n      <td>NaN</td>\n      <td>NaN</td>\n      <td>NaN</td>\n      <td>NaN</td>\n      <td>NaN</td>\n      <td>NaN</td>\n      <td>NaN</td>\n      <td>NaN</td>\n      <td>NaN</td>\n      <td>10.0</td>\n    </tr>\n    <tr>\n      <th>673</th>\n      <td>87398619166</td>\n      <td>NaN</td>\n      <td>NaN</td>\n      <td>NaN</td>\n      <td>NaN</td>\n      <td>NaN</td>\n      <td>NaN</td>\n      <td>NaN</td>\n      <td>NaN</td>\n      <td>NaN</td>\n      <td>NaN</td>\n      <td>NaN</td>\n      <td>NaN</td>\n      <td>11.0</td>\n    </tr>\n  </tbody>\n</table>\n<p>674 rows × 14 columns</p>\n</div>"
     },
     "execution_count": 6,
     "metadata": {},
     "output_type": "execute_result"
    }
   ],
   "source": [
    "assets = pd.read_csv(os.path.join(input_root_path, 'Recommended_Assets_Merged.csv'))\n",
    "del assets[assets.columns[0]]\n",
    "print(f'NaN:\\n{assets.isna().sum()}')\n",
    "assets"
   ],
   "metadata": {
    "collapsed": false
   }
  },
  {
   "cell_type": "code",
   "execution_count": 7,
   "outputs": [
    {
     "name": "stdout",
     "output_type": "stream",
     "text": [
      "!! daily 702 ignored.\n",
      "!! Recommended Assets Merged.csv ignored.\n",
      "!! SelectedWeatherStations_50KM.xlsx ignored.\n",
      "!! Station Inventory EN.csv ignored.\n",
      "!! WeatherInfo_Command_Lines_EN.txt ignored.\n",
      "!! WeatherStationsInfo.zip ignored.\n"
     ]
    },
    {
     "data": {
      "text/plain": "       Weather:StationID  Weather:Long  Weather:Lat Weather:Date  \\\n0                   1022       -120.80        50.11   2020-01-01   \n1                   1022       -120.80        50.11   2020-01-01   \n2                   1022       -120.80        50.11   2020-01-01   \n3                   1022       -120.80        50.11   2020-01-01   \n4                   1022       -120.80        50.11   2020-01-01   \n...                  ...           ...          ...          ...   \n26299                998       -121.02        50.47   2022-09-30   \n26300                998       -121.02        50.47   2022-09-30   \n26301                998       -121.02        50.47   2022-09-30   \n26302                998       -121.02        50.47   2022-09-30   \n26303                998       -121.02        50.47   2022-09-30   \n\n       Weather:Hour  Weather:Temp  Weather:Precip  Weather:WindSpd  \n0                 0           NaN             NaN              NaN  \n1                 1           NaN             NaN              NaN  \n2                 2           NaN             NaN              NaN  \n3                 3           NaN             NaN              NaN  \n4                 4           NaN             NaN              NaN  \n...             ...           ...             ...              ...  \n26299            19           NaN             NaN              NaN  \n26300            20           NaN             NaN              NaN  \n26301            21           NaN             NaN              NaN  \n26302            22           NaN             NaN              NaN  \n26303            23           NaN             NaN              NaN  \n\n[1052160 rows x 8 columns]",
      "text/html": "<div>\n<style scoped>\n    .dataframe tbody tr th:only-of-type {\n        vertical-align: middle;\n    }\n\n    .dataframe tbody tr th {\n        vertical-align: top;\n    }\n\n    .dataframe thead th {\n        text-align: right;\n    }\n</style>\n<table border=\"1\" class=\"dataframe\">\n  <thead>\n    <tr style=\"text-align: right;\">\n      <th></th>\n      <th>Weather:StationID</th>\n      <th>Weather:Long</th>\n      <th>Weather:Lat</th>\n      <th>Weather:Date</th>\n      <th>Weather:Hour</th>\n      <th>Weather:Temp</th>\n      <th>Weather:Precip</th>\n      <th>Weather:WindSpd</th>\n    </tr>\n  </thead>\n  <tbody>\n    <tr>\n      <th>0</th>\n      <td>1022</td>\n      <td>-120.80</td>\n      <td>50.11</td>\n      <td>2020-01-01</td>\n      <td>0</td>\n      <td>NaN</td>\n      <td>NaN</td>\n      <td>NaN</td>\n    </tr>\n    <tr>\n      <th>1</th>\n      <td>1022</td>\n      <td>-120.80</td>\n      <td>50.11</td>\n      <td>2020-01-01</td>\n      <td>1</td>\n      <td>NaN</td>\n      <td>NaN</td>\n      <td>NaN</td>\n    </tr>\n    <tr>\n      <th>2</th>\n      <td>1022</td>\n      <td>-120.80</td>\n      <td>50.11</td>\n      <td>2020-01-01</td>\n      <td>2</td>\n      <td>NaN</td>\n      <td>NaN</td>\n      <td>NaN</td>\n    </tr>\n    <tr>\n      <th>3</th>\n      <td>1022</td>\n      <td>-120.80</td>\n      <td>50.11</td>\n      <td>2020-01-01</td>\n      <td>3</td>\n      <td>NaN</td>\n      <td>NaN</td>\n      <td>NaN</td>\n    </tr>\n    <tr>\n      <th>4</th>\n      <td>1022</td>\n      <td>-120.80</td>\n      <td>50.11</td>\n      <td>2020-01-01</td>\n      <td>4</td>\n      <td>NaN</td>\n      <td>NaN</td>\n      <td>NaN</td>\n    </tr>\n    <tr>\n      <th>...</th>\n      <td>...</td>\n      <td>...</td>\n      <td>...</td>\n      <td>...</td>\n      <td>...</td>\n      <td>...</td>\n      <td>...</td>\n      <td>...</td>\n    </tr>\n    <tr>\n      <th>26299</th>\n      <td>998</td>\n      <td>-121.02</td>\n      <td>50.47</td>\n      <td>2022-09-30</td>\n      <td>19</td>\n      <td>NaN</td>\n      <td>NaN</td>\n      <td>NaN</td>\n    </tr>\n    <tr>\n      <th>26300</th>\n      <td>998</td>\n      <td>-121.02</td>\n      <td>50.47</td>\n      <td>2022-09-30</td>\n      <td>20</td>\n      <td>NaN</td>\n      <td>NaN</td>\n      <td>NaN</td>\n    </tr>\n    <tr>\n      <th>26301</th>\n      <td>998</td>\n      <td>-121.02</td>\n      <td>50.47</td>\n      <td>2022-09-30</td>\n      <td>21</td>\n      <td>NaN</td>\n      <td>NaN</td>\n      <td>NaN</td>\n    </tr>\n    <tr>\n      <th>26302</th>\n      <td>998</td>\n      <td>-121.02</td>\n      <td>50.47</td>\n      <td>2022-09-30</td>\n      <td>22</td>\n      <td>NaN</td>\n      <td>NaN</td>\n      <td>NaN</td>\n    </tr>\n    <tr>\n      <th>26303</th>\n      <td>998</td>\n      <td>-121.02</td>\n      <td>50.47</td>\n      <td>2022-09-30</td>\n      <td>23</td>\n      <td>NaN</td>\n      <td>NaN</td>\n      <td>NaN</td>\n    </tr>\n  </tbody>\n</table>\n<p>1052160 rows × 8 columns</p>\n</div>"
     },
     "execution_count": 7,
     "metadata": {},
     "output_type": "execute_result"
    }
   ],
   "source": [
    "weather_all = pd.DataFrame()\n",
    "\n",
    "# for station_id in df_matched_weather_ids['Weather:StationID'].unique():\n",
    "for folder_name in os.listdir(weather_path):\n",
    "    if not folder_name.isnumeric():\n",
    "        print(f'!! {folder_name} ignored.')\n",
    "        continue\n",
    "    station_id = int(folder_name)\n",
    "    weather_joined_files = glob.glob(os.path.join(weather_path, f'{station_id}/*.csv'))\n",
    "    weather_station = load_csv_to_df(weather_joined_files)\n",
    "\n",
    "    weather_station.insert(loc=0, column='StationID', value=station_id)\n",
    "    weather_station['Date/Time (LST)'] = pd.to_datetime(weather_station['Date/Time (LST)'])\n",
    "    # df_weather_station['Date'] = df_weather_station['Date/Time (LST)'].dt.date\n",
    "    weather_station.insert(loc=weather_station.columns.get_loc('Date/Time (LST)')+1, column='Date', value= weather_station['Date/Time (LST)'].dt.date)\n",
    "    weather_station.insert(loc=weather_station.columns.get_loc('Time (LST)')+1, column='Hour', value= weather_station['Date/Time (LST)'].dt.hour)\n",
    "\n",
    "    weather_all = pd.concat([weather_all, weather_station[['StationID', 'Longitude (x)', 'Latitude (y)', 'Date', 'Hour', 'Temp (°C)', 'Precip. Amount (mm)', 'Wind Spd (km/h)']]], axis=0)\n",
    "\n",
    "weather_all.rename(columns = {'Temp (°C)':'Temp',\n",
    "                             'Precip. Amount (mm)':'Precip',\n",
    "                             'Wind Spd (km/h)':'WindSpd',\n",
    "                             'Longitude (x)':'Long',\n",
    "                             'Latitude (y)':'Lat'},\n",
    "                  inplace=True)\n",
    "weather_all.columns = ['Weather:' + str(col) for col in weather_all.columns]\n",
    "weather_all = weather_all.drop_duplicates()\n",
    "weather_all"
   ],
   "metadata": {
    "collapsed": false
   }
  },
  {
   "cell_type": "code",
   "execution_count": 8,
   "outputs": [
    {
     "data": {
      "text/plain": "       Weather:StationID  Weather:Long  Weather:Lat Weather:Date  \\\n0                  10223       -118.03        52.93   2020-01-01   \n1                  10223       -118.03        52.93   2020-01-01   \n2                  10223       -118.03        52.93   2020-01-01   \n3                  10223       -118.03        52.93   2020-01-01   \n4                  10223       -118.03        52.93   2020-01-01   \n...                  ...           ...          ...          ...   \n23875               8214       -119.29        52.13   2022-06-21   \n23876               8214       -119.29        52.13   2022-06-21   \n23877               8214       -119.29        52.13   2022-06-21   \n23878               8214       -119.29        52.13   2022-06-21   \n23879               8214       -119.29        52.13   2022-06-21   \n\n       Weather:Hour  Weather:Temp  Weather:Precip  Weather:WindSpd  \n0                 0          -2.0             0.2              4.0  \n1                 1          -2.1             0.2              4.0  \n2                 2          -2.1             0.3              5.0  \n3                 3          -2.3             0.0              6.0  \n4                 4          -2.3             0.4              4.0  \n...             ...           ...             ...              ...  \n23875            19          12.9             0.6              4.0  \n23876            20          12.5             0.4              3.0  \n23877            21          12.3             1.0              2.0  \n23878            22          11.9             0.7              4.0  \n23879            23          11.6             0.3              2.0  \n\n[150018 rows x 8 columns]",
      "text/html": "<div>\n<style scoped>\n    .dataframe tbody tr th:only-of-type {\n        vertical-align: middle;\n    }\n\n    .dataframe tbody tr th {\n        vertical-align: top;\n    }\n\n    .dataframe thead th {\n        text-align: right;\n    }\n</style>\n<table border=\"1\" class=\"dataframe\">\n  <thead>\n    <tr style=\"text-align: right;\">\n      <th></th>\n      <th>Weather:StationID</th>\n      <th>Weather:Long</th>\n      <th>Weather:Lat</th>\n      <th>Weather:Date</th>\n      <th>Weather:Hour</th>\n      <th>Weather:Temp</th>\n      <th>Weather:Precip</th>\n      <th>Weather:WindSpd</th>\n    </tr>\n  </thead>\n  <tbody>\n    <tr>\n      <th>0</th>\n      <td>10223</td>\n      <td>-118.03</td>\n      <td>52.93</td>\n      <td>2020-01-01</td>\n      <td>0</td>\n      <td>-2.0</td>\n      <td>0.2</td>\n      <td>4.0</td>\n    </tr>\n    <tr>\n      <th>1</th>\n      <td>10223</td>\n      <td>-118.03</td>\n      <td>52.93</td>\n      <td>2020-01-01</td>\n      <td>1</td>\n      <td>-2.1</td>\n      <td>0.2</td>\n      <td>4.0</td>\n    </tr>\n    <tr>\n      <th>2</th>\n      <td>10223</td>\n      <td>-118.03</td>\n      <td>52.93</td>\n      <td>2020-01-01</td>\n      <td>2</td>\n      <td>-2.1</td>\n      <td>0.3</td>\n      <td>5.0</td>\n    </tr>\n    <tr>\n      <th>3</th>\n      <td>10223</td>\n      <td>-118.03</td>\n      <td>52.93</td>\n      <td>2020-01-01</td>\n      <td>3</td>\n      <td>-2.3</td>\n      <td>0.0</td>\n      <td>6.0</td>\n    </tr>\n    <tr>\n      <th>4</th>\n      <td>10223</td>\n      <td>-118.03</td>\n      <td>52.93</td>\n      <td>2020-01-01</td>\n      <td>4</td>\n      <td>-2.3</td>\n      <td>0.4</td>\n      <td>4.0</td>\n    </tr>\n    <tr>\n      <th>...</th>\n      <td>...</td>\n      <td>...</td>\n      <td>...</td>\n      <td>...</td>\n      <td>...</td>\n      <td>...</td>\n      <td>...</td>\n      <td>...</td>\n    </tr>\n    <tr>\n      <th>23875</th>\n      <td>8214</td>\n      <td>-119.29</td>\n      <td>52.13</td>\n      <td>2022-06-21</td>\n      <td>19</td>\n      <td>12.9</td>\n      <td>0.6</td>\n      <td>4.0</td>\n    </tr>\n    <tr>\n      <th>23876</th>\n      <td>8214</td>\n      <td>-119.29</td>\n      <td>52.13</td>\n      <td>2022-06-21</td>\n      <td>20</td>\n      <td>12.5</td>\n      <td>0.4</td>\n      <td>3.0</td>\n    </tr>\n    <tr>\n      <th>23877</th>\n      <td>8214</td>\n      <td>-119.29</td>\n      <td>52.13</td>\n      <td>2022-06-21</td>\n      <td>21</td>\n      <td>12.3</td>\n      <td>1.0</td>\n      <td>2.0</td>\n    </tr>\n    <tr>\n      <th>23878</th>\n      <td>8214</td>\n      <td>-119.29</td>\n      <td>52.13</td>\n      <td>2022-06-21</td>\n      <td>22</td>\n      <td>11.9</td>\n      <td>0.7</td>\n      <td>4.0</td>\n    </tr>\n    <tr>\n      <th>23879</th>\n      <td>8214</td>\n      <td>-119.29</td>\n      <td>52.13</td>\n      <td>2022-06-21</td>\n      <td>23</td>\n      <td>11.6</td>\n      <td>0.3</td>\n      <td>2.0</td>\n    </tr>\n  </tbody>\n</table>\n<p>150018 rows × 8 columns</p>\n</div>"
     },
     "execution_count": 8,
     "metadata": {},
     "output_type": "execute_result"
    }
   ],
   "source": [
    "weather =  weather_all.dropna(subset=['Weather:Temp', 'Weather:Precip', 'Weather:WindSpd']).copy()\n",
    "# weather =  weather_all.dropna(subset=['Weather:Temp']).copy().reset_index(drop=True)\n",
    "# weather = weather.dropna(subset=['Weather:Temp', 'Weather:Precip', 'Weather:WindSpd'])\n",
    "weather['Weather:Date'] = pd.to_datetime(weather['Weather:Date'])\n",
    "weather"
   ],
   "metadata": {
    "collapsed": false
   }
  },
  {
   "cell_type": "code",
   "execution_count": 9,
   "outputs": [
    {
     "data": {
      "text/plain": "         AssetNumber                                    AssetIdentifier  \\\n0        49831911074                                          Spread 3B   \n1        49831911074                                          Spread 3B   \n2        49831911074                                          Spread 3B   \n3        49831911074                                          Spread 3B   \n4        49831911074                                          Spread 3B   \n...              ...                                                ...   \n1704013  55858030442  AP 6-A-Hwy 1 E-2 • NB • Macro Spiecapag JV • 1052   \n1704014  55858030442  AP 6-A-Hwy 1 E-2 • NB • Macro Spiecapag JV • 1052   \n1704015  55858030442  AP 6-A-Hwy 1 E-2 • NB • Macro Spiecapag JV • 1052   \n1704016  55858030442  AP 6-A-Hwy 1 E-2 • NB • Macro Spiecapag JV • 1052   \n1704017  55858030442  AP 6-A-Hwy 1 E-2 • NB • Macro Spiecapag JV • 1052   \n\n                 CreatedDate  UnderConstructionTime  BaselineTime  DelayTime  \\\n0        2022-05-03 17:59:55                   2.20          2.13       0.07   \n1        2022-05-03 17:57:32                   2.20          2.13       0.07   \n2        2022-05-03 17:55:23                   2.20          2.13       0.07   \n3        2022-05-03 17:53:29                   2.20          2.13       0.07   \n4        2022-05-03 17:51:45                   2.23          2.13       0.10   \n...                      ...                    ...           ...        ...   \n1704013  2021-04-15 18:15:10                   1.33          1.27       0.06   \n1704014  2021-04-15 18:20:10                   1.33          1.27       0.06   \n1704015  2021-04-15 18:25:11                   1.28          1.27       0.01   \n1704016  2021-04-15 18:30:09                   1.28          1.27       0.01   \n1704017  2021-04-15 18:35:11                   1.28          1.27       0.01   \n\n        State  SegmentLength TravelDirect     Spread  ... Weather:Lat  \\\n0          OK           3.36           SB  Spread 3B  ...       52.72   \n1          OK           3.36           SB  Spread 3B  ...       52.72   \n2          OK           3.36           SB  Spread 3B  ...       52.72   \n3          OK           3.36           SB  Spread 3B  ...       52.72   \n4          OK           3.36           SB  Spread 3B  ...       52.72   \n...       ...            ...          ...        ...  ...         ...   \n1704013    OK           2.16           NB  Spread 5B  ...       49.36   \n1704014    OK           2.16           NB  Spread 5B  ...       49.36   \n1704015    OK           2.16           NB  Spread 5B  ...       49.36   \n1704016    OK           2.16           NB  Spread 5B  ...       49.36   \n1704017    OK           2.16           NB  Spread 5B  ...       49.36   \n\n        Weather:Temp Weather:Precip Weather:WindSpd  Traffic:SiteNo  \\\n0                NaN            NaN             NaN        23-010NS   \n1                NaN            NaN             NaN        23-010NS   \n2                NaN            NaN             NaN        23-010NS   \n3                NaN            NaN             NaN        23-010NS   \n4                NaN            NaN             NaN        23-010NS   \n...              ...            ...             ...             ...   \n1704013          NaN            NaN             NaN        P-17-11E   \n1704014          NaN            NaN             NaN        P-17-11E   \n1704015          NaN            NaN             NaN        P-17-11E   \n1704016          NaN            NaN             NaN        P-17-11E   \n1704017          NaN            NaN             NaN        P-17-11E   \n\n         Traffic:IsTemporary  Traffic:AADT  Traffic:BaseYear  \\\n0                       True    355.333333            2017.0   \n1                       True    355.333333            2017.0   \n2                       True    355.333333            2017.0   \n3                       True    355.333333            2017.0   \n4                       True    355.333333            2017.0   \n...                      ...           ...               ...   \n1704013                  NaN           NaN               NaN   \n1704014                  NaN           NaN               NaN   \n1704015                  NaN           NaN               NaN   \n1704016                  NaN           NaN               NaN   \n1704017                  NaN           NaN               NaN   \n\n         Traffic:CalculatedAADT  MaxSpeed  \n0                         373.1     100.0  \n1                         373.1     100.0  \n2                         373.1     100.0  \n3                         373.1     100.0  \n4                         373.1     100.0  \n...                         ...       ...  \n1704013                     NaN     100.0  \n1704014                     NaN     100.0  \n1704015                     NaN     100.0  \n1704016                     NaN     100.0  \n1704017                     NaN     100.0  \n\n[985754 rows x 34 columns]",
      "text/html": "<div>\n<style scoped>\n    .dataframe tbody tr th:only-of-type {\n        vertical-align: middle;\n    }\n\n    .dataframe tbody tr th {\n        vertical-align: top;\n    }\n\n    .dataframe thead th {\n        text-align: right;\n    }\n</style>\n<table border=\"1\" class=\"dataframe\">\n  <thead>\n    <tr style=\"text-align: right;\">\n      <th></th>\n      <th>AssetNumber</th>\n      <th>AssetIdentifier</th>\n      <th>CreatedDate</th>\n      <th>UnderConstructionTime</th>\n      <th>BaselineTime</th>\n      <th>DelayTime</th>\n      <th>State</th>\n      <th>SegmentLength</th>\n      <th>TravelDirect</th>\n      <th>Spread</th>\n      <th>...</th>\n      <th>Weather:Lat</th>\n      <th>Weather:Temp</th>\n      <th>Weather:Precip</th>\n      <th>Weather:WindSpd</th>\n      <th>Traffic:SiteNo</th>\n      <th>Traffic:IsTemporary</th>\n      <th>Traffic:AADT</th>\n      <th>Traffic:BaseYear</th>\n      <th>Traffic:CalculatedAADT</th>\n      <th>MaxSpeed</th>\n    </tr>\n  </thead>\n  <tbody>\n    <tr>\n      <th>0</th>\n      <td>49831911074</td>\n      <td>Spread 3B</td>\n      <td>2022-05-03 17:59:55</td>\n      <td>2.20</td>\n      <td>2.13</td>\n      <td>0.07</td>\n      <td>OK</td>\n      <td>3.36</td>\n      <td>SB</td>\n      <td>Spread 3B</td>\n      <td>...</td>\n      <td>52.72</td>\n      <td>NaN</td>\n      <td>NaN</td>\n      <td>NaN</td>\n      <td>23-010NS</td>\n      <td>True</td>\n      <td>355.333333</td>\n      <td>2017.0</td>\n      <td>373.1</td>\n      <td>100.0</td>\n    </tr>\n    <tr>\n      <th>1</th>\n      <td>49831911074</td>\n      <td>Spread 3B</td>\n      <td>2022-05-03 17:57:32</td>\n      <td>2.20</td>\n      <td>2.13</td>\n      <td>0.07</td>\n      <td>OK</td>\n      <td>3.36</td>\n      <td>SB</td>\n      <td>Spread 3B</td>\n      <td>...</td>\n      <td>52.72</td>\n      <td>NaN</td>\n      <td>NaN</td>\n      <td>NaN</td>\n      <td>23-010NS</td>\n      <td>True</td>\n      <td>355.333333</td>\n      <td>2017.0</td>\n      <td>373.1</td>\n      <td>100.0</td>\n    </tr>\n    <tr>\n      <th>2</th>\n      <td>49831911074</td>\n      <td>Spread 3B</td>\n      <td>2022-05-03 17:55:23</td>\n      <td>2.20</td>\n      <td>2.13</td>\n      <td>0.07</td>\n      <td>OK</td>\n      <td>3.36</td>\n      <td>SB</td>\n      <td>Spread 3B</td>\n      <td>...</td>\n      <td>52.72</td>\n      <td>NaN</td>\n      <td>NaN</td>\n      <td>NaN</td>\n      <td>23-010NS</td>\n      <td>True</td>\n      <td>355.333333</td>\n      <td>2017.0</td>\n      <td>373.1</td>\n      <td>100.0</td>\n    </tr>\n    <tr>\n      <th>3</th>\n      <td>49831911074</td>\n      <td>Spread 3B</td>\n      <td>2022-05-03 17:53:29</td>\n      <td>2.20</td>\n      <td>2.13</td>\n      <td>0.07</td>\n      <td>OK</td>\n      <td>3.36</td>\n      <td>SB</td>\n      <td>Spread 3B</td>\n      <td>...</td>\n      <td>52.72</td>\n      <td>NaN</td>\n      <td>NaN</td>\n      <td>NaN</td>\n      <td>23-010NS</td>\n      <td>True</td>\n      <td>355.333333</td>\n      <td>2017.0</td>\n      <td>373.1</td>\n      <td>100.0</td>\n    </tr>\n    <tr>\n      <th>4</th>\n      <td>49831911074</td>\n      <td>Spread 3B</td>\n      <td>2022-05-03 17:51:45</td>\n      <td>2.23</td>\n      <td>2.13</td>\n      <td>0.10</td>\n      <td>OK</td>\n      <td>3.36</td>\n      <td>SB</td>\n      <td>Spread 3B</td>\n      <td>...</td>\n      <td>52.72</td>\n      <td>NaN</td>\n      <td>NaN</td>\n      <td>NaN</td>\n      <td>23-010NS</td>\n      <td>True</td>\n      <td>355.333333</td>\n      <td>2017.0</td>\n      <td>373.1</td>\n      <td>100.0</td>\n    </tr>\n    <tr>\n      <th>...</th>\n      <td>...</td>\n      <td>...</td>\n      <td>...</td>\n      <td>...</td>\n      <td>...</td>\n      <td>...</td>\n      <td>...</td>\n      <td>...</td>\n      <td>...</td>\n      <td>...</td>\n      <td>...</td>\n      <td>...</td>\n      <td>...</td>\n      <td>...</td>\n      <td>...</td>\n      <td>...</td>\n      <td>...</td>\n      <td>...</td>\n      <td>...</td>\n      <td>...</td>\n      <td>...</td>\n    </tr>\n    <tr>\n      <th>1704013</th>\n      <td>55858030442</td>\n      <td>AP 6-A-Hwy 1 E-2 • NB • Macro Spiecapag JV • 1052</td>\n      <td>2021-04-15 18:15:10</td>\n      <td>1.33</td>\n      <td>1.27</td>\n      <td>0.06</td>\n      <td>OK</td>\n      <td>2.16</td>\n      <td>NB</td>\n      <td>Spread 5B</td>\n      <td>...</td>\n      <td>49.36</td>\n      <td>NaN</td>\n      <td>NaN</td>\n      <td>NaN</td>\n      <td>P-17-11E</td>\n      <td>NaN</td>\n      <td>NaN</td>\n      <td>NaN</td>\n      <td>NaN</td>\n      <td>100.0</td>\n    </tr>\n    <tr>\n      <th>1704014</th>\n      <td>55858030442</td>\n      <td>AP 6-A-Hwy 1 E-2 • NB • Macro Spiecapag JV • 1052</td>\n      <td>2021-04-15 18:20:10</td>\n      <td>1.33</td>\n      <td>1.27</td>\n      <td>0.06</td>\n      <td>OK</td>\n      <td>2.16</td>\n      <td>NB</td>\n      <td>Spread 5B</td>\n      <td>...</td>\n      <td>49.36</td>\n      <td>NaN</td>\n      <td>NaN</td>\n      <td>NaN</td>\n      <td>P-17-11E</td>\n      <td>NaN</td>\n      <td>NaN</td>\n      <td>NaN</td>\n      <td>NaN</td>\n      <td>100.0</td>\n    </tr>\n    <tr>\n      <th>1704015</th>\n      <td>55858030442</td>\n      <td>AP 6-A-Hwy 1 E-2 • NB • Macro Spiecapag JV • 1052</td>\n      <td>2021-04-15 18:25:11</td>\n      <td>1.28</td>\n      <td>1.27</td>\n      <td>0.01</td>\n      <td>OK</td>\n      <td>2.16</td>\n      <td>NB</td>\n      <td>Spread 5B</td>\n      <td>...</td>\n      <td>49.36</td>\n      <td>NaN</td>\n      <td>NaN</td>\n      <td>NaN</td>\n      <td>P-17-11E</td>\n      <td>NaN</td>\n      <td>NaN</td>\n      <td>NaN</td>\n      <td>NaN</td>\n      <td>100.0</td>\n    </tr>\n    <tr>\n      <th>1704016</th>\n      <td>55858030442</td>\n      <td>AP 6-A-Hwy 1 E-2 • NB • Macro Spiecapag JV • 1052</td>\n      <td>2021-04-15 18:30:09</td>\n      <td>1.28</td>\n      <td>1.27</td>\n      <td>0.01</td>\n      <td>OK</td>\n      <td>2.16</td>\n      <td>NB</td>\n      <td>Spread 5B</td>\n      <td>...</td>\n      <td>49.36</td>\n      <td>NaN</td>\n      <td>NaN</td>\n      <td>NaN</td>\n      <td>P-17-11E</td>\n      <td>NaN</td>\n      <td>NaN</td>\n      <td>NaN</td>\n      <td>NaN</td>\n      <td>100.0</td>\n    </tr>\n    <tr>\n      <th>1704017</th>\n      <td>55858030442</td>\n      <td>AP 6-A-Hwy 1 E-2 • NB • Macro Spiecapag JV • 1052</td>\n      <td>2021-04-15 18:35:11</td>\n      <td>1.28</td>\n      <td>1.27</td>\n      <td>0.01</td>\n      <td>OK</td>\n      <td>2.16</td>\n      <td>NB</td>\n      <td>Spread 5B</td>\n      <td>...</td>\n      <td>49.36</td>\n      <td>NaN</td>\n      <td>NaN</td>\n      <td>NaN</td>\n      <td>P-17-11E</td>\n      <td>NaN</td>\n      <td>NaN</td>\n      <td>NaN</td>\n      <td>NaN</td>\n      <td>100.0</td>\n    </tr>\n  </tbody>\n</table>\n<p>985754 rows × 34 columns</p>\n</div>"
     },
     "execution_count": 9,
     "metadata": {},
     "output_type": "execute_result"
    }
   ],
   "source": [
    "travel_t_na = travel_t[travel_t[['Weather:Temp', 'Weather:Precip', 'Weather:WindSpd']].isna().any(axis=1)]\n",
    "# travel_t.dropna(subset=['Weather:Temp', 'Weather:Precip', 'Weather:WindSpd'])\n",
    "travel_t_na"
   ],
   "metadata": {
    "collapsed": false
   }
  },
  {
   "cell_type": "code",
   "execution_count": 10,
   "outputs": [],
   "source": [
    "def find_nearest_ws(asset, wss):\n",
    "    dists = []\n",
    "    for ws in wss:\n",
    "        # dists.append(np.linalg.norm(asset - ws, axis=1)[0])\n",
    "        dists.append(np.linalg.norm(asset - ws))\n",
    "    # print('dists', dists, '\\n')\n",
    "    return np.argmin(dists)\n",
    "\n",
    "\n",
    "# def convert_coordinates(easting, northing, utm_zone):\n",
    "def convert_coordinates(asset_info):\n",
    "    easting = asset_info['Easting']\n",
    "    northing = asset_info['Northing']\n",
    "    utm_zone = asset_info['UTM Zone']\n",
    "\n",
    "    if np.isnan(easting) or np.isnan(northing) or np.isnan(utm_zone):\n",
    "        # print(\"!!! DANGER\")\n",
    "        # print(easting, northing)\n",
    "        return np.nan\n",
    "\n",
    "    if pd.isna(utm_zone):\n",
    "        if easting > 600000:\n",
    "            utm_zone = 10\n",
    "        elif easting < 600000:\n",
    "            utm_zone = 11\n",
    "        else:\n",
    "            # if np.isnan(easting) or np.isnan(northing) or np.isnan(utm_zone):\n",
    "            #     print(\"!!! DANGER\")\n",
    "            # print(easting, northing)\n",
    "            # print(f\"utm_zone = {utm_zone} \\n\")\n",
    "            return np.nan\n",
    "\n",
    "    utm_zone = int(utm_zone)\n",
    "\n",
    "    proj_lonlat_to_EN = pyproj.Proj(proj='utm', zone=utm_zone, ellps='WGS84')\n",
    "\n",
    "    # ea , no = proj_lonlat_to_EN(lon, lat)\n",
    "    lon, lat = proj_lonlat_to_EN(easting, northing, inverse=True)\n",
    "\n",
    "    return [lon , lat]"
   ],
   "metadata": {
    "collapsed": false
   }
  },
  {
   "cell_type": "code",
   "execution_count": 11,
   "outputs": [
    {
     "data": {
      "text/plain": "     Asset Number   Segment Name  Segment Length  Baseline Direct of Travel  \\\n0     62134790681  AP 3-B-12-A-1           2.746      1.72               NB   \n1     10897197432  AP 3-B-12-A-1           2.746      1.73               SB   \n2     12768050215  AP 3-B-13-A-1           2.970      1.92               NB   \n3     56678162306  AP 3-B-13-A-1           2.970      1.92               SB   \n4     86851077697  AP 3-B-13-A-3          18.000       NaN               NB   \n..            ...            ...             ...       ...              ...   \n669   98870744606            NaN             NaN       NaN              NaN   \n670   42000211195            NaN             NaN       NaN              NaN   \n671   29368392925            NaN             NaN       NaN              NaN   \n672   20575538255            NaN             NaN       NaN              NaN   \n673   87398619166            NaN             NaN       NaN              NaN   \n\n        Spread Traffic Impact                      Road Type  \\\n0    Spread 3B           High  Multi-Lane Undivided Roadways   \n1    Spread 3B           High  Multi-Lane Undivided Roadways   \n2    Spread 3B           High  Multi-Lane Undivided Roadways   \n3    Spread 3B           High  Multi-Lane Undivided Roadways   \n4    Spread 3B           High  Multi-Lane Undivided Roadways   \n..         ...            ...                            ...   \n669        NaN            NaN                            NaN   \n670        NaN            NaN                            NaN   \n671        NaN            NaN                            NaN   \n672        NaN            NaN                            NaN   \n673        NaN            NaN                            NaN   \n\n    Traffic Control Setup       Easting      Northing Most Recent Activation  \\\n0                    SLAT  344630.96633  5.861839e+06              2/25/2022   \n1                    SLAT  344630.96633  5.861839e+06              2/25/2022   \n2                    SLAT  344922.86601  5.860906e+06               4/2/2022   \n3                    SLAT  344922.86601  5.860906e+06               4/2/2022   \n4                    SLAT  346092.86128  5.857159e+06                    NaN   \n..                    ...           ...           ...                    ...   \n669                   NaN           NaN           NaN                    NaN   \n670                   NaN           NaN           NaN                    NaN   \n671                   NaN           NaN           NaN                    NaN   \n672                   NaN           NaN           NaN                    NaN   \n673                   NaN           NaN           NaN                    NaN   \n\n    Cell Coverage  UTM Zone                         Longitude_Latitude  \n0             NaN      11.0  [-119.30910111899807, 52.883778480895074]  \n1             NaN      11.0  [-119.30910111899807, 52.883778480895074]  \n2             NaN      11.0  [-119.30432219789675, 52.875482049886536]  \n3             NaN      11.0  [-119.30432219789675, 52.875482049886536]  \n4             NaN       NaN                                        NaN  \n..            ...       ...                                        ...  \n669           NaN      10.0                                        NaN  \n670           NaN      11.0                                        NaN  \n671           NaN      11.0                                        NaN  \n672           NaN      10.0                                        NaN  \n673           NaN      11.0                                        NaN  \n\n[674 rows x 15 columns]",
      "text/html": "<div>\n<style scoped>\n    .dataframe tbody tr th:only-of-type {\n        vertical-align: middle;\n    }\n\n    .dataframe tbody tr th {\n        vertical-align: top;\n    }\n\n    .dataframe thead th {\n        text-align: right;\n    }\n</style>\n<table border=\"1\" class=\"dataframe\">\n  <thead>\n    <tr style=\"text-align: right;\">\n      <th></th>\n      <th>Asset Number</th>\n      <th>Segment Name</th>\n      <th>Segment Length</th>\n      <th>Baseline</th>\n      <th>Direct of Travel</th>\n      <th>Spread</th>\n      <th>Traffic Impact</th>\n      <th>Road Type</th>\n      <th>Traffic Control Setup</th>\n      <th>Easting</th>\n      <th>Northing</th>\n      <th>Most Recent Activation</th>\n      <th>Cell Coverage</th>\n      <th>UTM Zone</th>\n      <th>Longitude_Latitude</th>\n    </tr>\n  </thead>\n  <tbody>\n    <tr>\n      <th>0</th>\n      <td>62134790681</td>\n      <td>AP 3-B-12-A-1</td>\n      <td>2.746</td>\n      <td>1.72</td>\n      <td>NB</td>\n      <td>Spread 3B</td>\n      <td>High</td>\n      <td>Multi-Lane Undivided Roadways</td>\n      <td>SLAT</td>\n      <td>344630.96633</td>\n      <td>5.861839e+06</td>\n      <td>2/25/2022</td>\n      <td>NaN</td>\n      <td>11.0</td>\n      <td>[-119.30910111899807, 52.883778480895074]</td>\n    </tr>\n    <tr>\n      <th>1</th>\n      <td>10897197432</td>\n      <td>AP 3-B-12-A-1</td>\n      <td>2.746</td>\n      <td>1.73</td>\n      <td>SB</td>\n      <td>Spread 3B</td>\n      <td>High</td>\n      <td>Multi-Lane Undivided Roadways</td>\n      <td>SLAT</td>\n      <td>344630.96633</td>\n      <td>5.861839e+06</td>\n      <td>2/25/2022</td>\n      <td>NaN</td>\n      <td>11.0</td>\n      <td>[-119.30910111899807, 52.883778480895074]</td>\n    </tr>\n    <tr>\n      <th>2</th>\n      <td>12768050215</td>\n      <td>AP 3-B-13-A-1</td>\n      <td>2.970</td>\n      <td>1.92</td>\n      <td>NB</td>\n      <td>Spread 3B</td>\n      <td>High</td>\n      <td>Multi-Lane Undivided Roadways</td>\n      <td>SLAT</td>\n      <td>344922.86601</td>\n      <td>5.860906e+06</td>\n      <td>4/2/2022</td>\n      <td>NaN</td>\n      <td>11.0</td>\n      <td>[-119.30432219789675, 52.875482049886536]</td>\n    </tr>\n    <tr>\n      <th>3</th>\n      <td>56678162306</td>\n      <td>AP 3-B-13-A-1</td>\n      <td>2.970</td>\n      <td>1.92</td>\n      <td>SB</td>\n      <td>Spread 3B</td>\n      <td>High</td>\n      <td>Multi-Lane Undivided Roadways</td>\n      <td>SLAT</td>\n      <td>344922.86601</td>\n      <td>5.860906e+06</td>\n      <td>4/2/2022</td>\n      <td>NaN</td>\n      <td>11.0</td>\n      <td>[-119.30432219789675, 52.875482049886536]</td>\n    </tr>\n    <tr>\n      <th>4</th>\n      <td>86851077697</td>\n      <td>AP 3-B-13-A-3</td>\n      <td>18.000</td>\n      <td>NaN</td>\n      <td>NB</td>\n      <td>Spread 3B</td>\n      <td>High</td>\n      <td>Multi-Lane Undivided Roadways</td>\n      <td>SLAT</td>\n      <td>346092.86128</td>\n      <td>5.857159e+06</td>\n      <td>NaN</td>\n      <td>NaN</td>\n      <td>NaN</td>\n      <td>NaN</td>\n    </tr>\n    <tr>\n      <th>...</th>\n      <td>...</td>\n      <td>...</td>\n      <td>...</td>\n      <td>...</td>\n      <td>...</td>\n      <td>...</td>\n      <td>...</td>\n      <td>...</td>\n      <td>...</td>\n      <td>...</td>\n      <td>...</td>\n      <td>...</td>\n      <td>...</td>\n      <td>...</td>\n      <td>...</td>\n    </tr>\n    <tr>\n      <th>669</th>\n      <td>98870744606</td>\n      <td>NaN</td>\n      <td>NaN</td>\n      <td>NaN</td>\n      <td>NaN</td>\n      <td>NaN</td>\n      <td>NaN</td>\n      <td>NaN</td>\n      <td>NaN</td>\n      <td>NaN</td>\n      <td>NaN</td>\n      <td>NaN</td>\n      <td>NaN</td>\n      <td>10.0</td>\n      <td>NaN</td>\n    </tr>\n    <tr>\n      <th>670</th>\n      <td>42000211195</td>\n      <td>NaN</td>\n      <td>NaN</td>\n      <td>NaN</td>\n      <td>NaN</td>\n      <td>NaN</td>\n      <td>NaN</td>\n      <td>NaN</td>\n      <td>NaN</td>\n      <td>NaN</td>\n      <td>NaN</td>\n      <td>NaN</td>\n      <td>NaN</td>\n      <td>11.0</td>\n      <td>NaN</td>\n    </tr>\n    <tr>\n      <th>671</th>\n      <td>29368392925</td>\n      <td>NaN</td>\n      <td>NaN</td>\n      <td>NaN</td>\n      <td>NaN</td>\n      <td>NaN</td>\n      <td>NaN</td>\n      <td>NaN</td>\n      <td>NaN</td>\n      <td>NaN</td>\n      <td>NaN</td>\n      <td>NaN</td>\n      <td>NaN</td>\n      <td>11.0</td>\n      <td>NaN</td>\n    </tr>\n    <tr>\n      <th>672</th>\n      <td>20575538255</td>\n      <td>NaN</td>\n      <td>NaN</td>\n      <td>NaN</td>\n      <td>NaN</td>\n      <td>NaN</td>\n      <td>NaN</td>\n      <td>NaN</td>\n      <td>NaN</td>\n      <td>NaN</td>\n      <td>NaN</td>\n      <td>NaN</td>\n      <td>NaN</td>\n      <td>10.0</td>\n      <td>NaN</td>\n    </tr>\n    <tr>\n      <th>673</th>\n      <td>87398619166</td>\n      <td>NaN</td>\n      <td>NaN</td>\n      <td>NaN</td>\n      <td>NaN</td>\n      <td>NaN</td>\n      <td>NaN</td>\n      <td>NaN</td>\n      <td>NaN</td>\n      <td>NaN</td>\n      <td>NaN</td>\n      <td>NaN</td>\n      <td>NaN</td>\n      <td>11.0</td>\n      <td>NaN</td>\n    </tr>\n  </tbody>\n</table>\n<p>674 rows × 15 columns</p>\n</div>"
     },
     "execution_count": 11,
     "metadata": {},
     "output_type": "execute_result"
    }
   ],
   "source": [
    "assets['Longitude_Latitude'] = assets.apply(convert_coordinates, axis = 1)\n",
    "assets"
   ],
   "metadata": {
    "collapsed": false
   }
  },
  {
   "cell_type": "code",
   "execution_count": 23,
   "outputs": [
    {
     "data": {
      "text/plain": "976130"
     },
     "execution_count": 23,
     "metadata": {},
     "output_type": "execute_result"
    }
   ],
   "source": [
    "# type(asset_info[['Easting', 'Northing']].values)\n",
    "counter = 0\n",
    "for idx in travel_t_na.index:\n",
    "    obs = travel_t.loc[idx]\n",
    "    if np.isnan(obs['Weather:Temp']) or np.isnan(obs['Weather:Precip']) or np.isnan(obs['Weather:WindSpd']):\n",
    "        # print('idx =', idx)\n",
    "        # print('BEFORE', obs[['Weather:Temp', 'Weather:Precip', 'Weather:WindSpd']])\n",
    "\n",
    "        weather_time_matched = weather[\n",
    "            (obs['CreatedDate:Date'] == weather['Weather:Date']) &\n",
    "            (obs['CreatedDate:Hour'] == weather['Weather:Hour'])]\n",
    "\n",
    "        asset_info = assets[obs['AssetNumber'] == assets['Asset Number']]\n",
    "\n",
    "        weather_coordinates = weather_time_matched[['Weather:Lat', 'Weather:Long']]\n",
    "\n",
    "        nearest_idx = find_nearest_ws(asset_info['Longitude_Latitude'].values[0], weather_time_matched[['Weather:Long', 'Weather:Lat']].values)\n",
    "        # print(nearest_idx)\n",
    "        nearset_ws = weather_time_matched.iloc[nearest_idx]\n",
    "\n",
    "\n",
    "        travel_t.loc[idx, 'Weather:Temp'] = nearset_ws['Weather:Temp']\n",
    "        travel_t.loc[idx, 'Weather:Precip'] = nearset_ws['Weather:Precip']\n",
    "        travel_t.loc[idx, 'Weather:WindSpd'] = nearset_ws['Weather:WindSpd']\n",
    "\n",
    "        # print('\\n\\nAFTER', travel_t.loc[idx][['Weather:Temp', 'Weather:Precip', 'Weather:WindSpd']])\n",
    "\n",
    "        counter += 1\n",
    "counter"
   ],
   "metadata": {
    "collapsed": false
   }
  },
  {
   "cell_type": "code",
   "execution_count": 24,
   "outputs": [
    {
     "data": {
      "text/plain": "AssetNumber                     0\nAssetIdentifier                 0\nCreatedDate                     0\nUnderConstructionTime           0\nBaselineTime                   22\nDelayTime                      22\nState                          85\nSegmentLength                   0\nTravelDirect                    0\nSpread                          0\nTrafficImpact                   0\nRoadType                        0\nTrafficControlSetup             0\nCreatedDate:Date                0\nCreatedDate:Weekday             0\nCreatedDate:DayOfYear           0\nCreatedDate:Year                0\nCreatedDate:Month               0\nCreatedDate:Day                 0\nCreatedDate:Hour                0\nCreatedDate:MinuteInDay         0\nCreatedDate:Season              0\nWeather:StationID               0\nWeather:Long                    0\nWeather:Lat                     0\nWeather:Temp                    0\nWeather:Precip                  0\nWeather:WindSpd                 0\nTraffic:SiteNo                  0\nTraffic:IsTemporary        326167\nTraffic:AADT               326167\nTraffic:BaseYear           326167\nTraffic:CalculatedAADT     326167\nMaxSpeed                   347852\ndtype: int64"
     },
     "execution_count": 24,
     "metadata": {},
     "output_type": "execute_result"
    }
   ],
   "source": [
    "travel_t.isna().sum()"
   ],
   "metadata": {
    "collapsed": false
   }
  },
  {
   "cell_type": "code",
   "execution_count": null,
   "outputs": [],
   "source": [
    "obs = travel_t_na.loc[1704012]\n",
    "\n",
    "weather_time_matched = weather[\n",
    "    (obs['CreatedDate:Date'] == weather['Weather:Date']) &\n",
    "    (obs['CreatedDate:Hour'] == weather['Weather:Hour'])]\n",
    "weather_time_matched\n",
    "\n",
    "asset_info = assets[obs['AssetNumber'] == assets['Asset Number']]\n",
    "asset_coordinate = asset_info[['Easting', 'Northing']]\n",
    "\n",
    "# asset_coordinate\n",
    "# weather_time_matched[['Weather:Long', 'Weather:Lat']]\n",
    "\n",
    "nearest_idx = find_nearest_ws(asset_coordinate.values, weather_time_matched[['Weather:Long', 'Weather:Lat']].values)\n",
    "print(nearest_idx)\n",
    "weather_time_matched.iloc[nearest_idx]\n",
    "# obs['AssetNumber']"
   ],
   "metadata": {
    "collapsed": false
   }
  }
 ],
 "metadata": {
  "kernelspec": {
   "display_name": "Python 3",
   "language": "python",
   "name": "python3"
  },
  "language_info": {
   "codemirror_mode": {
    "name": "ipython",
    "version": 2
   },
   "file_extension": ".py",
   "mimetype": "text/x-python",
   "name": "python",
   "nbconvert_exporter": "python",
   "pygments_lexer": "ipython2",
   "version": "2.7.6"
  }
 },
 "nbformat": 4,
 "nbformat_minor": 0
}
