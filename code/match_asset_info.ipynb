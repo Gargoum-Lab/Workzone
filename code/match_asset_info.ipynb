{
 "cells": [
  {
   "cell_type": "code",
   "execution_count": 1,
   "metadata": {
    "collapsed": true
   },
   "outputs": [],
   "source": [
    "import pandas as pd\n",
    "import os\n",
    "import pyarrow.feather as feather"
   ]
  },
  {
   "cell_type": "code",
   "execution_count": 17,
   "outputs": [],
   "source": [
    "input_root_path = \"E:\\OneDrive - UBC\\Work Zone\\data\"\n",
    "df_selected = feather.read_feather(os.path.join(input_root_path, 'TravelTimeInfo/TravelTime_Valid_Recom_Weather_Traffic.ftr'))\n",
    "df_all = pd.read_csv(os.path.join(input_root_path, \"AssetInfo/AssetDefGrid (16).csv\"))"
   ],
   "metadata": {
    "collapsed": false
   }
  },
  {
   "cell_type": "code",
   "execution_count": 11,
   "outputs": [
    {
     "data": {
      "text/plain": "Index(['Asset Number', 'Photos', 'Location', 'Genealogy', 'Menu',\n       'Segment Name', 'Start Point', 'End Point', 'Update Polyline',\n       'JamLogic Segment Name', 'JamLogic Segment ID', 'Segment Length',\n       'Segment Active', 'Side Road Active', 'Under Construction', 'Baseline',\n       'Delay', 'State', 'Threshold Broken', 'Threshold Status',\n       'Direct of Travel', 'Direct of Travel Review?', 'District Office',\n       'Spread', 'Original Application Number', 'Current Application Number',\n       'Application Chain', 'Extension Version', 'Traffic Impact',\n       'Process Status', 'eDAS', 'Process Name', 'Revision', 'Process Owner',\n       'Details of Right of Way to work within or close',\n       'Description of work', 'eDAS Status', 'Process Vendor', 'Critical Path',\n       'NTP Status', 'Expiry Date', 'Anticipated Completion Date',\n       'Process Required Date', 'Construction Start Date', 'Required Date',\n       'Road Type', 'Project Category', 'Traffic Control Setup', 'TSFA Class',\n       'Last Modified', 'TPS Notes', 'From Time', 'To Time', 'From Date',\n       'To Date', 'Access Point ID [Demand ID]', 'HWY number',\n       'From (landmark)', 'To (landmark)', 'KP IN', 'KP OUT', 'Map Ref',\n       'Easting', 'Northing', 'UTM Zone', 'Road Number', '1', '2', '3', '4',\n       'Start Point FLAGGER', 'End Point FLAGGER', 'Request Status',\n       'Blasting Event', 'Most Recent Activation', 'Audit', 'Cell Coverage',\n       'Created By', 'Created Date', 'Location Locked', 'Active',\n       'Project Identifier', 'Last Modified.1'],\n      dtype='object')"
     },
     "execution_count": 11,
     "metadata": {},
     "output_type": "execute_result"
    }
   ],
   "source": [
    "df_selected.columns\n",
    "df_all.columns\n",
    "# all_columns = df_all.columns"
   ],
   "metadata": {
    "collapsed": false
   }
  },
  {
   "cell_type": "code",
   "execution_count": 19,
   "outputs": [],
   "source": [
    "# pd.unique(df_selected[['AssetNumber', 'AssetIdentifier']])\n",
    "df_selected_unique = df_selected.groupby(['AssetNumber', 'AssetIdentifier']).size().reset_index().rename(columns={0: 'count'})\n",
    "\n",
    "df_all = df_all[['Asset Number', 'Segment Name', 'JamLogic Segment Name', 'Segment Length', 'Segment Active', 'Under Construction', 'Baseline', 'Direct of Travel', 'Spread', 'Original Application Number', 'Current Application Number', 'Application Chain', 'Road Type', 'Traffic Control Setup', 'Access Point ID [Demand ID]', 'HWY number', 'Easting', 'Northing', 'UTM Zone', 'Cell Coverage']]"
   ],
   "metadata": {
    "collapsed": false
   }
  },
  {
   "cell_type": "code",
   "execution_count": 24,
   "outputs": [
    {
     "data": {
      "text/plain": "     AssetNumber                                 AssetIdentifier  count  \\\n0    10000204812                                       Spread 4B    130   \n1    10004407918      AP 4-A-20-A • NB • Ledcor Sicim LP • 638.6  16588   \n2    10004407918                                       Spread 4A   1341   \n3    10266236577                                       Spread 4B   7806   \n4    10897197432    AP 3-B-12-A-1 • SB • Ledcor Sicim LP • 511.9  15978   \n..           ...                                             ...    ...   \n562  99152507318  AP 4-A-Hwy 5-17 • NB • Ledcor Sicim LP • 637.7   2918   \n563  99152507318                                       Spread 4A    330   \n564  99675721151        AP 4-A-19-A • NB • Ledcor Sicim LP • 636   4855   \n565  99675721151                                       Spread 4A   1241   \n566  99994344960  AP 4-A-Hwy 5-18 • NB • Ledcor Sicim LP • 638.2   1378   \n\n     Asset Number     Segment Name                     JamLogic Segment Name  \\\n0     10000204812      AP 4-B-68-B                            AP 4-B-68-B SB   \n1     10004407918      AP 4-A-20-A                            NB AP 4-A-20-A   \n2     10004407918      AP 4-A-20-A                            NB AP 4-A-20-A   \n3     10266236577     AP 4-B-112-A  AP 4-B-112-A, AP 4-B-112-A-1 Banister SB   \n4     10897197432    AP 3-B-12-A-1                          SB AP 3-B-12-A-1   \n..            ...              ...                                       ...   \n562   99152507318  AP 4-A-Hwy 5-17                        NB AP 4-A-Hwy 5-17   \n563   99152507318  AP 4-A-Hwy 5-17                        NB AP 4-A-Hwy 5-17   \n564   99675721151      AP 4-A-19-A                            NB AP 4-A-19-A   \n565   99675721151      AP 4-A-19-A                            NB AP 4-A-19-A   \n566   99994344960  AP 4-A-Hwy 5-18                        NB AP 4-A-Hwy 5-18   \n\n     Segment Length Segment Active  Under Construction  Baseline  ...  \\\n0              3.39          False                2.22      2.32  ...   \n1              2.78           True                1.75      1.67  ...   \n2              2.78           True                1.75      1.67  ...   \n3              2.68          False                1.58      1.60  ...   \n4              2.75          False                1.68      1.73  ...   \n..              ...            ...                 ...       ...  ...   \n562            2.78           True                1.78      1.68  ...   \n563            2.78           True                1.78      1.68  ...   \n564            2.76          False                1.78      1.72  ...   \n565            2.76          False                1.78      1.72  ...   \n566            2.72           True                1.73      1.58  ...   \n\n    Current Application Number  \\\n0                   TPS-160345   \n1                   TPS-160816   \n2                   TPS-160816   \n3                   TPS-160867   \n4                   TPS-149116   \n..                         ...   \n562                 TPS-149941   \n563                 TPS-149941   \n564                 TPS-149940   \n565                 TPS-149940   \n566                 TPS-160408   \n\n                                     Application Chain  \\\n0    TPS-159409, TPS-158637, TPS-157800, TPS-156622...   \n1    TPS-159980, TPS-158313, TPS-157576, TPS-157046...   \n2    TPS-159980, TPS-158313, TPS-157576, TPS-157046...   \n3    TPS-160266, TPS-159086, TPS-158474, TPS-157604...   \n4    TPS-148134, TPS-147115, TPS-145615, TPS-144161...   \n..                                                 ...   \n562  TPS-149133, TPS-148151, TPS-147259, TPS-145730...   \n563  TPS-149133, TPS-148151, TPS-147259, TPS-145730...   \n564  TPS-149132, TPS-148150, TPS-147256, TPS-145729...   \n565  TPS-149132, TPS-148150, TPS-147256, TPS-145729...   \n566  TPS-159329, TPS-157830, TPS-157384, TPS-156591...   \n\n                                 Road Type Traffic Control Setup  \\\n0    Two-Lane, Two-Way Roadways (>70 km/h)                  SLAT   \n1            Multi-Lane Undivided Roadways                  SLAT   \n2            Multi-Lane Undivided Roadways                  SLAT   \n3    Two-Lane, Two-Way Roadways (>70 km/h)                  SLAT   \n4            Multi-Lane Undivided Roadways                  SLAT   \n..                                     ...                   ...   \n562          Multi-Lane Undivided Roadways                  SLAT   \n563          Multi-Lane Undivided Roadways                  SLAT   \n564          Multi-Lane Undivided Roadways                  SLAT   \n565          Multi-Lane Undivided Roadways                  SLAT   \n566          Multi-Lane Undivided Roadways                  SLAT   \n\n      Access Point ID [Demand ID] HWY number      Easting     Northing  \\\n0                     AP 4-B-68-B          5  311243.2305  5719276.099   \n1                     AP 4-A-20-A          5  341189.9313  5749894.748   \n2                     AP 4-A-20-A          5  341189.9313  5749894.748   \n3    AP 4-B-112-A, AP 4-B-112-A-1          5  700563.8176  5722504.412   \n4                   AP 3-B-12-A-1          5  344630.9663  5861839.093   \n..                            ...        ...          ...          ...   \n562               AP 4-A-Hwy 5-17          5  341198.6731  5750829.749   \n563               AP 4-A-Hwy 5-17          5  341198.6731  5750829.749   \n564                   AP 4-A-19-A          5  340730.0628  5752497.838   \n565                   AP 4-A-19-A          5  340730.0628  5752497.838   \n566               AP 4-A-Hwy 5-18          5  341185.3766  5750286.818   \n\n    UTM Zone          Cell Coverage  \n0       11.0                    NaN  \n1       11.0  No Cell Coverage Area  \n2       11.0  No Cell Coverage Area  \n3       10.0                    NaN  \n4       11.0                    NaN  \n..       ...                    ...  \n562     11.0  No Cell Coverage Area  \n563     11.0  No Cell Coverage Area  \n564     11.0  No Cell Coverage Area  \n565     11.0  No Cell Coverage Area  \n566     11.0  No Cell Coverage Area  \n\n[567 rows x 23 columns]",
      "text/html": "<div>\n<style scoped>\n    .dataframe tbody tr th:only-of-type {\n        vertical-align: middle;\n    }\n\n    .dataframe tbody tr th {\n        vertical-align: top;\n    }\n\n    .dataframe thead th {\n        text-align: right;\n    }\n</style>\n<table border=\"1\" class=\"dataframe\">\n  <thead>\n    <tr style=\"text-align: right;\">\n      <th></th>\n      <th>AssetNumber</th>\n      <th>AssetIdentifier</th>\n      <th>count</th>\n      <th>Asset Number</th>\n      <th>Segment Name</th>\n      <th>JamLogic Segment Name</th>\n      <th>Segment Length</th>\n      <th>Segment Active</th>\n      <th>Under Construction</th>\n      <th>Baseline</th>\n      <th>...</th>\n      <th>Current Application Number</th>\n      <th>Application Chain</th>\n      <th>Road Type</th>\n      <th>Traffic Control Setup</th>\n      <th>Access Point ID [Demand ID]</th>\n      <th>HWY number</th>\n      <th>Easting</th>\n      <th>Northing</th>\n      <th>UTM Zone</th>\n      <th>Cell Coverage</th>\n    </tr>\n  </thead>\n  <tbody>\n    <tr>\n      <th>0</th>\n      <td>10000204812</td>\n      <td>Spread 4B</td>\n      <td>130</td>\n      <td>10000204812</td>\n      <td>AP 4-B-68-B</td>\n      <td>AP 4-B-68-B SB</td>\n      <td>3.39</td>\n      <td>False</td>\n      <td>2.22</td>\n      <td>2.32</td>\n      <td>...</td>\n      <td>TPS-160345</td>\n      <td>TPS-159409, TPS-158637, TPS-157800, TPS-156622...</td>\n      <td>Two-Lane, Two-Way Roadways (&gt;70 km/h)</td>\n      <td>SLAT</td>\n      <td>AP 4-B-68-B</td>\n      <td>5</td>\n      <td>311243.2305</td>\n      <td>5719276.099</td>\n      <td>11.0</td>\n      <td>NaN</td>\n    </tr>\n    <tr>\n      <th>1</th>\n      <td>10004407918</td>\n      <td>AP 4-A-20-A • NB • Ledcor Sicim LP • 638.6</td>\n      <td>16588</td>\n      <td>10004407918</td>\n      <td>AP 4-A-20-A</td>\n      <td>NB AP 4-A-20-A</td>\n      <td>2.78</td>\n      <td>True</td>\n      <td>1.75</td>\n      <td>1.67</td>\n      <td>...</td>\n      <td>TPS-160816</td>\n      <td>TPS-159980, TPS-158313, TPS-157576, TPS-157046...</td>\n      <td>Multi-Lane Undivided Roadways</td>\n      <td>SLAT</td>\n      <td>AP 4-A-20-A</td>\n      <td>5</td>\n      <td>341189.9313</td>\n      <td>5749894.748</td>\n      <td>11.0</td>\n      <td>No Cell Coverage Area</td>\n    </tr>\n    <tr>\n      <th>2</th>\n      <td>10004407918</td>\n      <td>Spread 4A</td>\n      <td>1341</td>\n      <td>10004407918</td>\n      <td>AP 4-A-20-A</td>\n      <td>NB AP 4-A-20-A</td>\n      <td>2.78</td>\n      <td>True</td>\n      <td>1.75</td>\n      <td>1.67</td>\n      <td>...</td>\n      <td>TPS-160816</td>\n      <td>TPS-159980, TPS-158313, TPS-157576, TPS-157046...</td>\n      <td>Multi-Lane Undivided Roadways</td>\n      <td>SLAT</td>\n      <td>AP 4-A-20-A</td>\n      <td>5</td>\n      <td>341189.9313</td>\n      <td>5749894.748</td>\n      <td>11.0</td>\n      <td>No Cell Coverage Area</td>\n    </tr>\n    <tr>\n      <th>3</th>\n      <td>10266236577</td>\n      <td>Spread 4B</td>\n      <td>7806</td>\n      <td>10266236577</td>\n      <td>AP 4-B-112-A</td>\n      <td>AP 4-B-112-A, AP 4-B-112-A-1 Banister SB</td>\n      <td>2.68</td>\n      <td>False</td>\n      <td>1.58</td>\n      <td>1.60</td>\n      <td>...</td>\n      <td>TPS-160867</td>\n      <td>TPS-160266, TPS-159086, TPS-158474, TPS-157604...</td>\n      <td>Two-Lane, Two-Way Roadways (&gt;70 km/h)</td>\n      <td>SLAT</td>\n      <td>AP 4-B-112-A, AP 4-B-112-A-1</td>\n      <td>5</td>\n      <td>700563.8176</td>\n      <td>5722504.412</td>\n      <td>10.0</td>\n      <td>NaN</td>\n    </tr>\n    <tr>\n      <th>4</th>\n      <td>10897197432</td>\n      <td>AP 3-B-12-A-1 • SB • Ledcor Sicim LP • 511.9</td>\n      <td>15978</td>\n      <td>10897197432</td>\n      <td>AP 3-B-12-A-1</td>\n      <td>SB AP 3-B-12-A-1</td>\n      <td>2.75</td>\n      <td>False</td>\n      <td>1.68</td>\n      <td>1.73</td>\n      <td>...</td>\n      <td>TPS-149116</td>\n      <td>TPS-148134, TPS-147115, TPS-145615, TPS-144161...</td>\n      <td>Multi-Lane Undivided Roadways</td>\n      <td>SLAT</td>\n      <td>AP 3-B-12-A-1</td>\n      <td>5</td>\n      <td>344630.9663</td>\n      <td>5861839.093</td>\n      <td>11.0</td>\n      <td>NaN</td>\n    </tr>\n    <tr>\n      <th>...</th>\n      <td>...</td>\n      <td>...</td>\n      <td>...</td>\n      <td>...</td>\n      <td>...</td>\n      <td>...</td>\n      <td>...</td>\n      <td>...</td>\n      <td>...</td>\n      <td>...</td>\n      <td>...</td>\n      <td>...</td>\n      <td>...</td>\n      <td>...</td>\n      <td>...</td>\n      <td>...</td>\n      <td>...</td>\n      <td>...</td>\n      <td>...</td>\n      <td>...</td>\n      <td>...</td>\n    </tr>\n    <tr>\n      <th>562</th>\n      <td>99152507318</td>\n      <td>AP 4-A-Hwy 5-17 • NB • Ledcor Sicim LP • 637.7</td>\n      <td>2918</td>\n      <td>99152507318</td>\n      <td>AP 4-A-Hwy 5-17</td>\n      <td>NB AP 4-A-Hwy 5-17</td>\n      <td>2.78</td>\n      <td>True</td>\n      <td>1.78</td>\n      <td>1.68</td>\n      <td>...</td>\n      <td>TPS-149941</td>\n      <td>TPS-149133, TPS-148151, TPS-147259, TPS-145730...</td>\n      <td>Multi-Lane Undivided Roadways</td>\n      <td>SLAT</td>\n      <td>AP 4-A-Hwy 5-17</td>\n      <td>5</td>\n      <td>341198.6731</td>\n      <td>5750829.749</td>\n      <td>11.0</td>\n      <td>No Cell Coverage Area</td>\n    </tr>\n    <tr>\n      <th>563</th>\n      <td>99152507318</td>\n      <td>Spread 4A</td>\n      <td>330</td>\n      <td>99152507318</td>\n      <td>AP 4-A-Hwy 5-17</td>\n      <td>NB AP 4-A-Hwy 5-17</td>\n      <td>2.78</td>\n      <td>True</td>\n      <td>1.78</td>\n      <td>1.68</td>\n      <td>...</td>\n      <td>TPS-149941</td>\n      <td>TPS-149133, TPS-148151, TPS-147259, TPS-145730...</td>\n      <td>Multi-Lane Undivided Roadways</td>\n      <td>SLAT</td>\n      <td>AP 4-A-Hwy 5-17</td>\n      <td>5</td>\n      <td>341198.6731</td>\n      <td>5750829.749</td>\n      <td>11.0</td>\n      <td>No Cell Coverage Area</td>\n    </tr>\n    <tr>\n      <th>564</th>\n      <td>99675721151</td>\n      <td>AP 4-A-19-A • NB • Ledcor Sicim LP • 636</td>\n      <td>4855</td>\n      <td>99675721151</td>\n      <td>AP 4-A-19-A</td>\n      <td>NB AP 4-A-19-A</td>\n      <td>2.76</td>\n      <td>False</td>\n      <td>1.78</td>\n      <td>1.72</td>\n      <td>...</td>\n      <td>TPS-149940</td>\n      <td>TPS-149132, TPS-148150, TPS-147256, TPS-145729...</td>\n      <td>Multi-Lane Undivided Roadways</td>\n      <td>SLAT</td>\n      <td>AP 4-A-19-A</td>\n      <td>5</td>\n      <td>340730.0628</td>\n      <td>5752497.838</td>\n      <td>11.0</td>\n      <td>No Cell Coverage Area</td>\n    </tr>\n    <tr>\n      <th>565</th>\n      <td>99675721151</td>\n      <td>Spread 4A</td>\n      <td>1241</td>\n      <td>99675721151</td>\n      <td>AP 4-A-19-A</td>\n      <td>NB AP 4-A-19-A</td>\n      <td>2.76</td>\n      <td>False</td>\n      <td>1.78</td>\n      <td>1.72</td>\n      <td>...</td>\n      <td>TPS-149940</td>\n      <td>TPS-149132, TPS-148150, TPS-147256, TPS-145729...</td>\n      <td>Multi-Lane Undivided Roadways</td>\n      <td>SLAT</td>\n      <td>AP 4-A-19-A</td>\n      <td>5</td>\n      <td>340730.0628</td>\n      <td>5752497.838</td>\n      <td>11.0</td>\n      <td>No Cell Coverage Area</td>\n    </tr>\n    <tr>\n      <th>566</th>\n      <td>99994344960</td>\n      <td>AP 4-A-Hwy 5-18 • NB • Ledcor Sicim LP • 638.2</td>\n      <td>1378</td>\n      <td>99994344960</td>\n      <td>AP 4-A-Hwy 5-18</td>\n      <td>NB AP 4-A-Hwy 5-18</td>\n      <td>2.72</td>\n      <td>True</td>\n      <td>1.73</td>\n      <td>1.58</td>\n      <td>...</td>\n      <td>TPS-160408</td>\n      <td>TPS-159329, TPS-157830, TPS-157384, TPS-156591...</td>\n      <td>Multi-Lane Undivided Roadways</td>\n      <td>SLAT</td>\n      <td>AP 4-A-Hwy 5-18</td>\n      <td>5</td>\n      <td>341185.3766</td>\n      <td>5750286.818</td>\n      <td>11.0</td>\n      <td>No Cell Coverage Area</td>\n    </tr>\n  </tbody>\n</table>\n<p>567 rows × 23 columns</p>\n</div>"
     },
     "execution_count": 24,
     "metadata": {},
     "output_type": "execute_result"
    }
   ],
   "source": [
    "df_merged = pd.merge(df_selected_unique, df_all, left_on='AssetNumber', right_on='Asset Number')\n",
    "df_merged"
   ],
   "metadata": {
    "collapsed": false
   }
  },
  {
   "cell_type": "code",
   "execution_count": 26,
   "outputs": [],
   "source": [
    "df_merged.to_csv(os.path.join(input_root_path, 'AssetInfo/unique_assets_full_info.csv'))"
   ],
   "metadata": {
    "collapsed": false
   }
  },
  {
   "cell_type": "code",
   "execution_count": 29,
   "outputs": [],
   "source": [],
   "metadata": {
    "collapsed": false
   }
  }
 ],
 "metadata": {
  "kernelspec": {
   "display_name": "Python 3",
   "language": "python",
   "name": "python3"
  },
  "language_info": {
   "codemirror_mode": {
    "name": "ipython",
    "version": 2
   },
   "file_extension": ".py",
   "mimetype": "text/x-python",
   "name": "python",
   "nbconvert_exporter": "python",
   "pygments_lexer": "ipython2",
   "version": "2.7.6"
  }
 },
 "nbformat": 4,
 "nbformat_minor": 0
}
